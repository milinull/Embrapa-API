{
 "cells": [
  {
   "cell_type": "code",
   "execution_count": null,
   "id": "aa7706e1-4b51-4bfe-b1fd-8afb6a8a7b7a",
   "metadata": {},
   "outputs": [],
   "source": [
    "pip install pandas requests boto3 python-decouple beautifulsoup4 fastparquet"
   ]
  },
  {
   "cell_type": "code",
   "execution_count": 2,
   "id": "18d4484a-63fa-4fa1-8738-1ea6b0b7619b",
   "metadata": {},
   "outputs": [],
   "source": [
    "import pandas as pd\n",
    "import requests\n",
    "import boto3\n",
    "import unicodedata\n",
    "import re\n",
    "import time\n",
    "import random\n",
    "from decouple import config\n",
    "from bs4 import BeautifulSoup\n",
    "import io"
   ]
  },
  {
   "cell_type": "code",
   "execution_count": 3,
   "id": "aa318e47-2cf2-4c46-8088-d23858069f19",
   "metadata": {},
   "outputs": [],
   "source": [
    "s3 = boto3.client(\n",
    "    's3',\n",
    "    aws_access_key_id = config('AWS_ACCESS_KEY'),\n",
    "    aws_secret_access_key = config('AWS_SECRET_KEY'),\n",
    "    region_name = config('AWS_LOCAL'),\n",
    ")\n",
    "\n",
    "bucket_name = config('AWS_DESTINY')"
   ]
  },
  {
   "cell_type": "code",
   "execution_count": null,
   "id": "bda8a4fc-4e4f-497f-ac98-2e8d1f6edece",
   "metadata": {},
   "outputs": [],
   "source": [
    "def sanitize_filename(filename):\n",
    "    \"\"\"\n",
    "    Remove acentos, espaços e caracteres especiais de nomes de arquivo.\n",
    "    \"\"\"\n",
    "    # Normaliza para remover acentos\n",
    "    nfkd_form = unicodedata.normalize('NFKD', filename)\n",
    "    only_ascii = nfkd_form.encode('ASCII', 'ignore').decode('utf-8')\n",
    "    # Substitui espaços e caracteres não alfanuméricos por underscore\n",
    "    sanitized = re.sub(r'[^0-9a-zA-Z]+', '_', only_ascii)\n",
    "    return sanitized.strip('_')\n",
    "\n",
    "def scrape_table(url, ano, botao_text=None):\n",
    "    \"\"\"\n",
    "    Faz o scraping de uma tabela em uma URL e adiciona o ano e, opcionalmente, o tipo.\n",
    "    \"\"\"\n",
    "    response = requests.get(url)\n",
    "    response.encoding = response.apparent_encoding\n",
    "    soup = BeautifulSoup(response.content, 'html.parser')\n",
    "    table = soup.find('table', class_='tb_base tb_dados')\n",
    "    if not table:\n",
    "        return [], None\n",
    "\n",
    "    table_name_tag = soup.find('p', class_='text_center')\n",
    "    table_name = table_name_tag.text.strip() if table_name_tag else \"table\"\n",
    "    botao_text = soup.find('button', {'value': botao_text}).get_text(strip=True)\n",
    "\n",
    "    rows = []\n",
    "    for row in table.find_all('tr'):\n",
    "        cols = [col.text.strip() for col in row.find_all('td')]\n",
    "        if cols:\n",
    "            # Adiciona botao_text se fornecido\n",
    "            if botao_text:\n",
    "                rows.append([ano, botao_text] + cols)\n",
    "            else:\n",
    "                rows.append([ano] + cols)\n",
    "\n",
    "    return rows, table_name"
   ]
  },
  {
   "cell_type": "code",
   "execution_count": 5,
   "id": "a22c50f4-56bd-42b0-a77f-11af70a9cc60",
   "metadata": {},
   "outputs": [],
   "source": [
    "# Definindo colunas por página\n",
    "columns_dict = {\n",
    "    2: [\"Ano\", \"Produto\", \"Quantidade (L.)\"],\n",
    "    3: [\"Ano\", \"Tipo\", \"Cultivar\", \"Quantidade (KG)\"],\n",
    "    4: [\"Ano\", \"Produto\", \"Quantidade (L.)\"],\n",
    "    5: [\"Ano\", \"Tipo\", \"Países\", \"Quantidade (KG)\", \"Valor (US$)\"],\n",
    "    6: [\"Ano\", \"Tipo\", \"Países\", \"Quantidade (KG)\", \"Valor (US$)\"]\n",
    "}\n",
    "\n",
    "# Número de subopções por página\n",
    "suboptions_dict = {\n",
    "    3: 4,\n",
    "    5: 5,\n",
    "    6: 4\n",
    "}"
   ]
  },
  {
   "cell_type": "code",
   "execution_count": 6,
   "id": "88f45d26-e267-49c5-a531-d41e06eac5d0",
   "metadata": {},
   "outputs": [
    {
     "name": "stdout",
     "output_type": "stream",
     "text": [
      "Página 2 concluída. Parquet enviado para S3: bronze/table_Producao_de_vinhos_sucos_e_derivados.parquet\n",
      "Página 3 concluída. Parquet enviado para S3: bronze/table_Uvas_sem_classificacao_processadas.parquet\n",
      "Página 4 concluída. Parquet enviado para S3: bronze/table_Comercializacao_de_vinhos_e_derivados.parquet\n",
      "Página 5 concluída. Parquet enviado para S3: bronze/table_Importacao_de_suco_de_uva.parquet\n",
      "Página 6 concluída. Parquet enviado para S3: bronze/table_Exportacao_de_suco_de_uva.parquet\n"
     ]
    }
   ],
   "source": [
    "for page in range(2, 7):\n",
    "    element_list = []\n",
    "\n",
    "    for ano in range(2024, 1969, -1):\n",
    "        base_url = f\"http://vitibrasil.cnpuv.embrapa.br/index.php?ano={ano}&opcao=opt_0{page}\"\n",
    "\n",
    "        # Verifica se a página tem subopções\n",
    "        if page in suboptions_dict:\n",
    "            for x in range(1, suboptions_dict[page] + 1):\n",
    "                url = f\"{base_url}&subopcao=subopt_0{x}\"\n",
    "                botao_text = f\"subopt_0{x}\"  # texto do botão para adicionar à tabela\n",
    "                rows, table_name = scrape_table(url, ano, botao_text)\n",
    "                element_list.extend(rows)\n",
    "\n",
    "                # Pausa de 1 a 3 segundos aleatoriamente para não sobrecarregar o servidor\n",
    "                # time.sleep(random.uniform(2, 4))\n",
    "        else:\n",
    "            rows, table_name = scrape_table(base_url, ano)\n",
    "            element_list.extend(rows)\n",
    "\n",
    "    # Cria DataFrame e salva CSV\n",
    "    df = pd.DataFrame(element_list, columns=columns_dict.get(page, [\"Ano\", \"Dado1\", \"Dado2\"]))\n",
    "    \n",
    "    parquet_buffer = io.BytesIO()\n",
    "    df.to_parquet(parquet_buffer, index=False, engine='fastparquet')\n",
    "    parquet_buffer.seek(0)\n",
    "\n",
    "    # Enviar para o S3\n",
    "    sanitized_table_name = sanitize_filename(table_name[:-7].strip().replace(\",\", \"\"))\n",
    "    s3.put_object(\n",
    "        Bucket=bucket_name,\n",
    "        Key=f\"embrapa-api/bronze/table_{sanitized_table_name}.parquet\",\n",
    "        Body=parquet_buffer.getvalue()\n",
    "    )\n",
    "\n",
    "    print(f\"Página {page} concluída. Parquet enviado para S3: bronze/table_{sanitized_table_name}.parquet\")"
   ]
  }
 ],
 "metadata": {
  "kernelspec": {
   "display_name": "Python 3 (ipykernel)",
   "language": "python",
   "name": "python3"
  },
  "language_info": {
   "codemirror_mode": {
    "name": "ipython",
    "version": 3
   },
   "file_extension": ".py",
   "mimetype": "text/x-python",
   "name": "python",
   "nbconvert_exporter": "python",
   "pygments_lexer": "ipython3",
   "version": "3.10.8"
  }
 },
 "nbformat": 4,
 "nbformat_minor": 5
}
