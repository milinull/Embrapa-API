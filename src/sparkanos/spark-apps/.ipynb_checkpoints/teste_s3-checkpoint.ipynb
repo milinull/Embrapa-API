{
 "cells": [
  {
   "cell_type": "code",
   "execution_count": 1,
   "id": "9ddc9110-af85-4f58-bd3d-ed00fa8b7295",
   "metadata": {},
   "outputs": [
    {
     "name": "stdout",
     "output_type": "stream",
     "text": [
      "Requirement already satisfied: pyspark in /usr/local/spark-3.3.1-bin-hadoop3/python (3.3.1)\n",
      "Collecting python-decouple\n",
      "  Downloading python_decouple-3.8-py3-none-any.whl (9.9 kB)\n",
      "Requirement already satisfied: py4j==0.10.9.5 in /opt/conda/lib/python3.10/site-packages (from pyspark) (0.10.9.5)\n",
      "Installing collected packages: python-decouple\n",
      "Successfully installed python-decouple-3.8\n",
      "Note: you may need to restart the kernel to use updated packages.\n"
     ]
    }
   ],
   "source": [
    "pip install pyspark python-decouple"
   ]
  },
  {
   "cell_type": "code",
   "execution_count": 2,
   "id": "945a9e22-13ff-4cb6-8471-43779b833526",
   "metadata": {},
   "outputs": [],
   "source": [
    "from pyspark.sql import SparkSession\n",
    "from decouple import config\n",
    "\n",
    "spark = SparkSession.builder \\\n",
    "    .appName(\"Spark S3 Real\") \\\n",
    "    .config(\"spark.hadoop.fs.s3a.access.key\", f\"{config('AWS_ACCESS_KEY')}\") \\\n",
    "    .config(\"spark.hadoop.fs.s3a.secret.key\", f\"{config('AWS_SECRET_KEY')}\") \\\n",
    "    .config(\"spark.hadoop.fs.s3a.endpoint\", \"s3.amazonaws.com\") \\\n",
    "    .config(\"spark.hadoop.fs.s3a.impl\", \"org.apache.hadoop.fs.s3a.S3AFileSystem\") \\\n",
    "    .getOrCreate()\n"
   ]
  },
  {
   "cell_type": "code",
   "execution_count": 3,
   "id": "4c607153-d08c-4489-a5e7-079d47b73b30",
   "metadata": {},
   "outputs": [
    {
     "name": "stdout",
     "output_type": "stream",
     "text": [
      "+----+--------------------+---------------+\n",
      "| Ano|             Produto|Quantidade (L.)|\n",
      "+----+--------------------+---------------+\n",
      "|2024|       VINHO DE MESA|    102.631.280|\n",
      "|2024|               Tinto|     86.404.980|\n",
      "|2024|              Branco|     14.682.722|\n",
      "|2024|              Rosado|      1.543.578|\n",
      "|2024|VINHO FINO DE MES...|     22.545.581|\n",
      "|2024|               Tinto|     10.594.848|\n",
      "|2024|              Branco|     10.780.605|\n",
      "|2024|              Rosado|      1.170.128|\n",
      "|2024|                SUCO|     82.884.967|\n",
      "|2024|Suco de uva integral|     66.326.591|\n",
      "|2024|Suco de uva conce...|     16.034.794|\n",
      "|2024| Suco de uva adoçado|         43.006|\n",
      "|2024|Suco de uva orgânico|        480.576|\n",
      "|2024|Suco de uva recon...|              -|\n",
      "|2024|           DERIVADOS|    143.197.697|\n",
      "|2024|           Espumante|         23.994|\n",
      "|2024|  Espumante moscatel|         10.664|\n",
      "|2024|      Base espumante|              -|\n",
      "|2024|Base espumante mo...|      6.395.734|\n",
      "|2024|Base Champenoise ...|        914.741|\n",
      "+----+--------------------+---------------+\n",
      "only showing top 20 rows\n",
      "\n"
     ]
    }
   ],
   "source": [
    "df = spark.read.parquet(\"s3a://testes-e-coisas/embrapa-api/bronze/table_Producao_de_vinhos_sucos_e_derivados.parquet\")\n",
    "df.show()"
   ]
  }
 ],
 "metadata": {
  "kernelspec": {
   "display_name": "Python 3 (ipykernel)",
   "language": "python",
   "name": "python3"
  },
  "language_info": {
   "codemirror_mode": {
    "name": "ipython",
    "version": 3
   },
   "file_extension": ".py",
   "mimetype": "text/x-python",
   "name": "python",
   "nbconvert_exporter": "python",
   "pygments_lexer": "ipython3",
   "version": "3.10.8"
  }
 },
 "nbformat": 4,
 "nbformat_minor": 5
}
